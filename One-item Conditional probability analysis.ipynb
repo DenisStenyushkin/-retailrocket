{
 "cells": [
  {
   "cell_type": "markdown",
   "metadata": {},
   "source": [
    "# Simple conditional probability analysis on RetailRocket dataset"
   ]
  },
  {
   "cell_type": "markdown",
   "metadata": {},
   "source": [
    "## Introduction\n",
    "In this notebook, we'll be using simple one-item conditional probability analysis to get some insights from RetailRocket dataset"
   ]
  },
  {
   "cell_type": "markdown",
   "metadata": {},
   "source": [
    "To start, we just import necessary libraries and read transactional data from the dataset"
   ]
  },
  {
   "cell_type": "code",
   "execution_count": 1,
   "metadata": {},
   "outputs": [],
   "source": [
    "import pandas as pd\n",
    "import numpy as np"
   ]
  },
  {
   "cell_type": "code",
   "execution_count": 2,
   "metadata": {},
   "outputs": [],
   "source": [
    "df = pd.read_csv('./data/events.csv')\n",
    "df = df.dropna(subset=['itemid', 'transactionid'])\n",
    "df['transactionid'] = df['transactionid'].astype(int)"
   ]
  },
  {
   "cell_type": "code",
   "execution_count": 3,
   "metadata": {
    "scrolled": false
   },
   "outputs": [
    {
     "data": {
      "text/html": [
       "<div>\n",
       "<style scoped>\n",
       "    .dataframe tbody tr th:only-of-type {\n",
       "        vertical-align: middle;\n",
       "    }\n",
       "\n",
       "    .dataframe tbody tr th {\n",
       "        vertical-align: top;\n",
       "    }\n",
       "\n",
       "    .dataframe thead th {\n",
       "        text-align: right;\n",
       "    }\n",
       "</style>\n",
       "<table border=\"1\" class=\"dataframe\">\n",
       "  <thead>\n",
       "    <tr style=\"text-align: right;\">\n",
       "      <th></th>\n",
       "      <th>timestamp</th>\n",
       "      <th>visitorid</th>\n",
       "      <th>event</th>\n",
       "      <th>itemid</th>\n",
       "      <th>transactionid</th>\n",
       "    </tr>\n",
       "  </thead>\n",
       "  <tbody>\n",
       "    <tr>\n",
       "      <th>1177886</th>\n",
       "      <td>1441147730523</td>\n",
       "      <td>543365</td>\n",
       "      <td>transaction</td>\n",
       "      <td>100821</td>\n",
       "      <td>8202</td>\n",
       "    </tr>\n",
       "    <tr>\n",
       "      <th>1087745</th>\n",
       "      <td>1440710346003</td>\n",
       "      <td>837675</td>\n",
       "      <td>transaction</td>\n",
       "      <td>280187</td>\n",
       "      <td>961</td>\n",
       "    </tr>\n",
       "    <tr>\n",
       "      <th>2344898</th>\n",
       "      <td>1436896231627</td>\n",
       "      <td>1150086</td>\n",
       "      <td>transaction</td>\n",
       "      <td>247601</td>\n",
       "      <td>15713</td>\n",
       "    </tr>\n",
       "    <tr>\n",
       "      <th>2661384</th>\n",
       "      <td>1438037491887</td>\n",
       "      <td>215049</td>\n",
       "      <td>transaction</td>\n",
       "      <td>421548</td>\n",
       "      <td>11379</td>\n",
       "    </tr>\n",
       "    <tr>\n",
       "      <th>1045104</th>\n",
       "      <td>1440525397351</td>\n",
       "      <td>363577</td>\n",
       "      <td>transaction</td>\n",
       "      <td>413902</td>\n",
       "      <td>5548</td>\n",
       "    </tr>\n",
       "    <tr>\n",
       "      <th>2744471</th>\n",
       "      <td>1438375193522</td>\n",
       "      <td>1099749</td>\n",
       "      <td>transaction</td>\n",
       "      <td>194678</td>\n",
       "      <td>1089</td>\n",
       "    </tr>\n",
       "    <tr>\n",
       "      <th>2538671</th>\n",
       "      <td>1437590571004</td>\n",
       "      <td>475479</td>\n",
       "      <td>transaction</td>\n",
       "      <td>196398</td>\n",
       "      <td>13502</td>\n",
       "    </tr>\n",
       "    <tr>\n",
       "      <th>1947788</th>\n",
       "      <td>1432658454424</td>\n",
       "      <td>1162129</td>\n",
       "      <td>transaction</td>\n",
       "      <td>464073</td>\n",
       "      <td>4378</td>\n",
       "    </tr>\n",
       "    <tr>\n",
       "      <th>2202774</th>\n",
       "      <td>1436375319316</td>\n",
       "      <td>1097400</td>\n",
       "      <td>transaction</td>\n",
       "      <td>254324</td>\n",
       "      <td>9300</td>\n",
       "    </tr>\n",
       "    <tr>\n",
       "      <th>784869</th>\n",
       "      <td>1439247874028</td>\n",
       "      <td>429035</td>\n",
       "      <td>transaction</td>\n",
       "      <td>170262</td>\n",
       "      <td>14984</td>\n",
       "    </tr>\n",
       "  </tbody>\n",
       "</table>\n",
       "</div>"
      ],
      "text/plain": [
       "             timestamp  visitorid        event  itemid  transactionid\n",
       "1177886  1441147730523     543365  transaction  100821           8202\n",
       "1087745  1440710346003     837675  transaction  280187            961\n",
       "2344898  1436896231627    1150086  transaction  247601          15713\n",
       "2661384  1438037491887     215049  transaction  421548          11379\n",
       "1045104  1440525397351     363577  transaction  413902           5548\n",
       "2744471  1438375193522    1099749  transaction  194678           1089\n",
       "2538671  1437590571004     475479  transaction  196398          13502\n",
       "1947788  1432658454424    1162129  transaction  464073           4378\n",
       "2202774  1436375319316    1097400  transaction  254324           9300\n",
       "784869   1439247874028     429035  transaction  170262          14984"
      ]
     },
     "execution_count": 3,
     "metadata": {},
     "output_type": "execute_result"
    }
   ],
   "source": [
    "df.sample(10)"
   ]
  },
  {
   "cell_type": "markdown",
   "metadata": {},
   "source": [
    "## Probabilities\n",
    "Next, our idea will be to consider items that appear together in transactions and calculate mutual conditional probabilities for each pair of them: probability of item A given item B and vice versa."
   ]
  },
  {
   "cell_type": "code",
   "execution_count": 4,
   "metadata": {},
   "outputs": [],
   "source": [
    "transactionItems = df.groupby('transactionid')['itemid'].agg(list)"
   ]
  },
  {
   "cell_type": "code",
   "execution_count": 5,
   "metadata": {},
   "outputs": [],
   "source": [
    "def cartesian_set_product(items):\n",
    "    results = []\n",
    "    for a in items:\n",
    "        for b in items:\n",
    "            if a != b:\n",
    "                results.append((a, b))\n",
    "    return results"
   ]
  },
  {
   "cell_type": "code",
   "execution_count": 6,
   "metadata": {},
   "outputs": [],
   "source": [
    "pairs = df.groupby('transactionid')['itemid'].agg(cartesian_set_product).sum()"
   ]
  },
  {
   "cell_type": "code",
   "execution_count": 7,
   "metadata": {},
   "outputs": [],
   "source": [
    "pairs = list(set(pairs))"
   ]
  },
  {
   "cell_type": "code",
   "execution_count": 8,
   "metadata": {},
   "outputs": [],
   "source": [
    "def calculate_probability(item_pair):\n",
    "    num_both = transactionItems.apply(lambda t: item_pair[0] in t and item_pair[1] in t).sum()\n",
    "    num_given = transactionItems.apply(lambda t: item_pair[1] in t).sum()\n",
    "    return num_both / num_given"
   ]
  },
  {
   "cell_type": "code",
   "execution_count": 9,
   "metadata": {},
   "outputs": [],
   "source": [
    "probs = pd.Series(index=pd.MultiIndex.from_tuples(pairs, names=['itemid_of', 'itemid_given']))"
   ]
  },
  {
   "cell_type": "code",
   "execution_count": 10,
   "metadata": {},
   "outputs": [],
   "source": [
    "for p in pairs:\n",
    "    probs[p[0], p[1]] = calculate_probability(p)"
   ]
  },
  {
   "cell_type": "code",
   "execution_count": 11,
   "metadata": {},
   "outputs": [],
   "source": [
    "probs.dropna(inplace=True)"
   ]
  },
  {
   "cell_type": "code",
   "execution_count": 12,
   "metadata": {},
   "outputs": [
    {
     "data": {
      "text/plain": [
       "count    19376.000000\n",
       "mean         0.658675\n",
       "std          0.349326\n",
       "min          0.007519\n",
       "25%          0.333333\n",
       "50%          0.600000\n",
       "75%          1.000000\n",
       "max          1.000000\n",
       "dtype: float64"
      ]
     },
     "execution_count": 12,
     "metadata": {},
     "output_type": "execute_result"
    }
   ],
   "source": [
    "probs.describe()"
   ]
  },
  {
   "cell_type": "markdown",
   "metadata": {},
   "source": [
    "The distribution looks realistic. Now let's take a closer look at a random item. For example, with itemid 186702. "
   ]
  },
  {
   "cell_type": "code",
   "execution_count": 21,
   "metadata": {},
   "outputs": [
    {
     "data": {
      "text/plain": [
       "itemid_of\n",
       "119736    0.333333\n",
       "416992    0.166667\n",
       "392655    0.166667\n",
       "62275     0.166667\n",
       "319723    0.083333\n",
       "210137    0.083333\n",
       "77733     0.083333\n",
       "31768     0.083333\n",
       "200537    0.083333\n",
       "352091    0.083333\n",
       "377603    0.083333\n",
       "337361    0.083333\n",
       "466109    0.083333\n",
       "396853    0.083333\n",
       "94437     0.083333\n",
       "249804    0.083333\n",
       "235559    0.083333\n",
       "71754     0.083333\n",
       "257245    0.083333\n",
       "85334     0.083333\n",
       "167126    0.083333\n",
       "8259      0.083333\n",
       "8523      0.083333\n",
       "dtype: float64"
      ]
     },
     "execution_count": 21,
     "metadata": {},
     "output_type": "execute_result"
    }
   ],
   "source": [
    "probs.xs(186702, level='itemid_given').sort_values(ascending=False)"
   ]
  },
  {
   "cell_type": "markdown",
   "metadata": {},
   "source": [
    "As we can see here, if a customer buys an item with id 186702, he will likely buy also an item 119736 - with a chance of 1/3."
   ]
  },
  {
   "cell_type": "markdown",
   "metadata": {},
   "source": [
    "## Trigger items\n",
    "Our next hypothesis will be that there are some trigger items, so that if a user buys such item, he will likely buy a lot of other things.\n",
    "To ckech this idea, we'll look for items that frequently appear in transactions. We will not consider particular quantities of items but only facts of presence.\n",
    "Also please note that items we find may be not only trigger items as we would like them to be but also simply popular items."
   ]
  },
  {
   "cell_type": "code",
   "execution_count": 15,
   "metadata": {},
   "outputs": [],
   "source": [
    "from collections import Counter"
   ]
  },
  {
   "cell_type": "code",
   "execution_count": 16,
   "metadata": {},
   "outputs": [],
   "source": [
    "counter = Counter(df.groupby('transactionid')['itemid'].agg(list).sum())"
   ]
  },
  {
   "cell_type": "code",
   "execution_count": 17,
   "metadata": {},
   "outputs": [
    {
     "data": {
      "text/plain": [
       "[(461686, 133), (119736, 97), (213834, 92), (312728, 46), (7943, 46)]"
      ]
     },
     "execution_count": 17,
     "metadata": {},
     "output_type": "execute_result"
    }
   ],
   "source": [
    "counter.most_common(5)"
   ]
  },
  {
   "cell_type": "markdown",
   "metadata": {},
   "source": [
    "Looks like item 461686 is very common across all transactions. If we convince a customer to buy it, it will likely make him to buy more other items thus increasing his bill."
   ]
  },
  {
   "cell_type": "markdown",
   "metadata": {},
   "source": [
    "## Recommending a trigger item\n",
    "So we want to see a list of goods, given that recommending our trigger good will be the most efficient. "
   ]
  },
  {
   "cell_type": "code",
   "execution_count": 19,
   "metadata": {},
   "outputs": [
    {
     "data": {
      "text/plain": [
       "itemid_given\n",
       "437607    1.000000\n",
       "40630     1.000000\n",
       "417673    1.000000\n",
       "144706    1.000000\n",
       "384170    1.000000\n",
       "348272    1.000000\n",
       "276864    1.000000\n",
       "293733    1.000000\n",
       "63406     1.000000\n",
       "223027    1.000000\n",
       "187697    1.000000\n",
       "286718    1.000000\n",
       "113712    1.000000\n",
       "280845    1.000000\n",
       "13188     1.000000\n",
       "335088    1.000000\n",
       "289006    1.000000\n",
       "36972     1.000000\n",
       "266965    1.000000\n",
       "256952    1.000000\n",
       "425159    1.000000\n",
       "29114     1.000000\n",
       "426588    1.000000\n",
       "24150     1.000000\n",
       "372728    1.000000\n",
       "192043    1.000000\n",
       "93092     1.000000\n",
       "415928    1.000000\n",
       "124081    1.000000\n",
       "65215     1.000000\n",
       "            ...   \n",
       "132853    1.000000\n",
       "459319    1.000000\n",
       "447067    0.750000\n",
       "108924    0.750000\n",
       "75392     0.750000\n",
       "218794    0.727273\n",
       "171878    0.692308\n",
       "125275    0.666667\n",
       "442300    0.666667\n",
       "35608     0.666667\n",
       "312929    0.500000\n",
       "17724     0.500000\n",
       "258600    0.500000\n",
       "213172    0.500000\n",
       "431940    0.500000\n",
       "215355    0.500000\n",
       "431632    0.500000\n",
       "67423     0.500000\n",
       "270938    0.500000\n",
       "10572     0.421053\n",
       "357529    0.400000\n",
       "250375    0.333333\n",
       "422376    0.333333\n",
       "442721    0.333333\n",
       "28072     0.333333\n",
       "19789     0.333333\n",
       "14427     0.250000\n",
       "44329     0.200000\n",
       "303229    0.111111\n",
       "158912    0.111111\n",
       "Length: 78, dtype: float64"
      ]
     },
     "execution_count": 19,
     "metadata": {},
     "output_type": "execute_result"
    }
   ],
   "source": [
    "probs.xs(461686, level='itemid_of').sort_values(ascending=False)"
   ]
  },
  {
   "cell_type": "markdown",
   "metadata": {},
   "source": [
    "The list above shows that, for example, if a customer buys 437607, we can recommed him our trigger good 461686, and he's guaranteed to buy it. Good result."
   ]
  },
  {
   "cell_type": "markdown",
   "metadata": {},
   "source": [
    "## Final remarks\n",
    "All the conclusions made here are just preliminary. They demonstrate empirical patterns but do not proof causality.\n",
    "Also due to the anonimity and size of available data, the patterns may be biased leading to incorrect conclusions. Additional research is required to validate it."
   ]
  },
  {
   "cell_type": "code",
   "execution_count": null,
   "metadata": {},
   "outputs": [],
   "source": []
  }
 ],
 "metadata": {
  "kernelspec": {
   "display_name": "Python 3",
   "language": "python",
   "name": "python3"
  },
  "language_info": {
   "codemirror_mode": {
    "name": "ipython",
    "version": 3
   },
   "file_extension": ".py",
   "mimetype": "text/x-python",
   "name": "python",
   "nbconvert_exporter": "python",
   "pygments_lexer": "ipython3",
   "version": "3.7.1"
  }
 },
 "nbformat": 4,
 "nbformat_minor": 2
}
