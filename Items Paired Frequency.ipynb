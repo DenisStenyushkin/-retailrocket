{
 "cells": [
  {
   "cell_type": "code",
   "execution_count": 1,
   "metadata": {},
   "outputs": [],
   "source": [
    "import pandas as pd\n",
    "import numpy as np"
   ]
  },
  {
   "cell_type": "code",
   "execution_count": 2,
   "metadata": {},
   "outputs": [],
   "source": [
    "df = pd.read_csv('./data/events.csv')\n",
    "df = df.dropna(subset=['itemid', 'transactionid'])\n",
    "df['transactionid'] = df['transactionid'].astype(int)"
   ]
  },
  {
   "cell_type": "code",
   "execution_count": 3,
   "metadata": {
    "scrolled": true
   },
   "outputs": [
    {
     "data": {
      "text/html": [
       "<div>\n",
       "<style scoped>\n",
       "    .dataframe tbody tr th:only-of-type {\n",
       "        vertical-align: middle;\n",
       "    }\n",
       "\n",
       "    .dataframe tbody tr th {\n",
       "        vertical-align: top;\n",
       "    }\n",
       "\n",
       "    .dataframe thead th {\n",
       "        text-align: right;\n",
       "    }\n",
       "</style>\n",
       "<table border=\"1\" class=\"dataframe\">\n",
       "  <thead>\n",
       "    <tr style=\"text-align: right;\">\n",
       "      <th></th>\n",
       "      <th>timestamp</th>\n",
       "      <th>visitorid</th>\n",
       "      <th>event</th>\n",
       "      <th>itemid</th>\n",
       "      <th>transactionid</th>\n",
       "    </tr>\n",
       "  </thead>\n",
       "  <tbody>\n",
       "    <tr>\n",
       "      <th>1785812</th>\n",
       "      <td>1431961631573</td>\n",
       "      <td>407882</td>\n",
       "      <td>transaction</td>\n",
       "      <td>420238</td>\n",
       "      <td>9230</td>\n",
       "    </tr>\n",
       "    <tr>\n",
       "      <th>2314591</th>\n",
       "      <td>1436726535140</td>\n",
       "      <td>1297062</td>\n",
       "      <td>transaction</td>\n",
       "      <td>361545</td>\n",
       "      <td>8866</td>\n",
       "    </tr>\n",
       "    <tr>\n",
       "      <th>2531913</th>\n",
       "      <td>1437616618559</td>\n",
       "      <td>1376763</td>\n",
       "      <td>transaction</td>\n",
       "      <td>73311</td>\n",
       "      <td>16900</td>\n",
       "    </tr>\n",
       "    <tr>\n",
       "      <th>2440889</th>\n",
       "      <td>1437243633771</td>\n",
       "      <td>371606</td>\n",
       "      <td>transaction</td>\n",
       "      <td>175749</td>\n",
       "      <td>4829</td>\n",
       "    </tr>\n",
       "    <tr>\n",
       "      <th>2201410</th>\n",
       "      <td>1436286088769</td>\n",
       "      <td>581152</td>\n",
       "      <td>transaction</td>\n",
       "      <td>307733</td>\n",
       "      <td>17615</td>\n",
       "    </tr>\n",
       "    <tr>\n",
       "      <th>1694990</th>\n",
       "      <td>1431621613832</td>\n",
       "      <td>761482</td>\n",
       "      <td>transaction</td>\n",
       "      <td>438605</td>\n",
       "      <td>765</td>\n",
       "    </tr>\n",
       "    <tr>\n",
       "      <th>839637</th>\n",
       "      <td>1439497165479</td>\n",
       "      <td>933821</td>\n",
       "      <td>transaction</td>\n",
       "      <td>323506</td>\n",
       "      <td>5000</td>\n",
       "    </tr>\n",
       "    <tr>\n",
       "      <th>100157</th>\n",
       "      <td>1433556183373</td>\n",
       "      <td>1398811</td>\n",
       "      <td>transaction</td>\n",
       "      <td>266553</td>\n",
       "      <td>5579</td>\n",
       "    </tr>\n",
       "    <tr>\n",
       "      <th>2364899</th>\n",
       "      <td>1436923381205</td>\n",
       "      <td>728219</td>\n",
       "      <td>transaction</td>\n",
       "      <td>215868</td>\n",
       "      <td>1868</td>\n",
       "    </tr>\n",
       "    <tr>\n",
       "      <th>2574662</th>\n",
       "      <td>1437749398334</td>\n",
       "      <td>1293259</td>\n",
       "      <td>transaction</td>\n",
       "      <td>158123</td>\n",
       "      <td>14504</td>\n",
       "    </tr>\n",
       "  </tbody>\n",
       "</table>\n",
       "</div>"
      ],
      "text/plain": [
       "             timestamp  visitorid        event  itemid  transactionid\n",
       "1785812  1431961631573     407882  transaction  420238           9230\n",
       "2314591  1436726535140    1297062  transaction  361545           8866\n",
       "2531913  1437616618559    1376763  transaction   73311          16900\n",
       "2440889  1437243633771     371606  transaction  175749           4829\n",
       "2201410  1436286088769     581152  transaction  307733          17615\n",
       "1694990  1431621613832     761482  transaction  438605            765\n",
       "839637   1439497165479     933821  transaction  323506           5000\n",
       "100157   1433556183373    1398811  transaction  266553           5579\n",
       "2364899  1436923381205     728219  transaction  215868           1868\n",
       "2574662  1437749398334    1293259  transaction  158123          14504"
      ]
     },
     "execution_count": 3,
     "metadata": {},
     "output_type": "execute_result"
    }
   ],
   "source": [
    "df.sample(10)"
   ]
  },
  {
   "cell_type": "code",
   "execution_count": 20,
   "metadata": {},
   "outputs": [],
   "source": [
    "def cartesian(x, y):\n",
    "    return np.transpose([np.tile(x, len(y)), np.repeat(y, len(x))])"
   ]
  },
  {
   "cell_type": "code",
   "execution_count": 39,
   "metadata": {},
   "outputs": [],
   "source": [
    "def build_items_pairs(items):\n",
    "    product = cartesian(items.values, items.values)\n",
    "    return list(product)"
   ]
  },
  {
   "cell_type": "code",
   "execution_count": 37,
   "metadata": {},
   "outputs": [],
   "source": [
    "aggregated = df.groupby(['transactionid'])['itemid'].agg(build_items_pairs)"
   ]
  },
  {
   "cell_type": "code",
   "execution_count": null,
   "metadata": {},
   "outputs": [],
   "source": []
  }
 ],
 "metadata": {
  "kernelspec": {
   "display_name": "Python 3",
   "language": "python",
   "name": "python3"
  },
  "language_info": {
   "codemirror_mode": {
    "name": "ipython",
    "version": 3
   },
   "file_extension": ".py",
   "mimetype": "text/x-python",
   "name": "python",
   "nbconvert_exporter": "python",
   "pygments_lexer": "ipython3",
   "version": "3.7.1"
  }
 },
 "nbformat": 4,
 "nbformat_minor": 2
}
