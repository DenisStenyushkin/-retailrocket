{
 "cells": [
  {
   "cell_type": "code",
   "execution_count": 1,
   "metadata": {},
   "outputs": [],
   "source": [
    "import pandas as pd\n",
    "import numpy as np"
   ]
  },
  {
   "cell_type": "code",
   "execution_count": 2,
   "metadata": {},
   "outputs": [],
   "source": [
    "df = pd.read_csv('./data/events.csv')\n",
    "df = df.dropna(subset=['itemid', 'transactionid'])\n",
    "df['transactionid'] = df['transactionid'].astype(int)"
   ]
  },
  {
   "cell_type": "code",
   "execution_count": 3,
   "metadata": {
    "scrolled": true
   },
   "outputs": [
    {
     "data": {
      "text/html": [
       "<div>\n",
       "<style scoped>\n",
       "    .dataframe tbody tr th:only-of-type {\n",
       "        vertical-align: middle;\n",
       "    }\n",
       "\n",
       "    .dataframe tbody tr th {\n",
       "        vertical-align: top;\n",
       "    }\n",
       "\n",
       "    .dataframe thead th {\n",
       "        text-align: right;\n",
       "    }\n",
       "</style>\n",
       "<table border=\"1\" class=\"dataframe\">\n",
       "  <thead>\n",
       "    <tr style=\"text-align: right;\">\n",
       "      <th></th>\n",
       "      <th>timestamp</th>\n",
       "      <th>visitorid</th>\n",
       "      <th>event</th>\n",
       "      <th>itemid</th>\n",
       "      <th>transactionid</th>\n",
       "    </tr>\n",
       "  </thead>\n",
       "  <tbody>\n",
       "    <tr>\n",
       "      <th>2218271</th>\n",
       "      <td>1436370151351</td>\n",
       "      <td>519839</td>\n",
       "      <td>transaction</td>\n",
       "      <td>425359</td>\n",
       "      <td>5589</td>\n",
       "    </tr>\n",
       "    <tr>\n",
       "      <th>179622</th>\n",
       "      <td>1433875006348</td>\n",
       "      <td>568495</td>\n",
       "      <td>transaction</td>\n",
       "      <td>461686</td>\n",
       "      <td>2609</td>\n",
       "    </tr>\n",
       "    <tr>\n",
       "      <th>1999480</th>\n",
       "      <td>1432832909376</td>\n",
       "      <td>163561</td>\n",
       "      <td>transaction</td>\n",
       "      <td>284045</td>\n",
       "      <td>17528</td>\n",
       "    </tr>\n",
       "    <tr>\n",
       "      <th>218973</th>\n",
       "      <td>1434175525320</td>\n",
       "      <td>1396823</td>\n",
       "      <td>transaction</td>\n",
       "      <td>173291</td>\n",
       "      <td>5728</td>\n",
       "    </tr>\n",
       "    <tr>\n",
       "      <th>1592090</th>\n",
       "      <td>1431187099939</td>\n",
       "      <td>163561</td>\n",
       "      <td>transaction</td>\n",
       "      <td>120098</td>\n",
       "      <td>7629</td>\n",
       "    </tr>\n",
       "    <tr>\n",
       "      <th>2626908</th>\n",
       "      <td>1437928730534</td>\n",
       "      <td>54960</td>\n",
       "      <td>transaction</td>\n",
       "      <td>91105</td>\n",
       "      <td>15661</td>\n",
       "    </tr>\n",
       "    <tr>\n",
       "      <th>812683</th>\n",
       "      <td>1439407324025</td>\n",
       "      <td>861299</td>\n",
       "      <td>transaction</td>\n",
       "      <td>146325</td>\n",
       "      <td>4937</td>\n",
       "    </tr>\n",
       "    <tr>\n",
       "      <th>1529517</th>\n",
       "      <td>1430927389187</td>\n",
       "      <td>1161163</td>\n",
       "      <td>transaction</td>\n",
       "      <td>404864</td>\n",
       "      <td>7658</td>\n",
       "    </tr>\n",
       "    <tr>\n",
       "      <th>2023687</th>\n",
       "      <td>1432930961754</td>\n",
       "      <td>109357</td>\n",
       "      <td>transaction</td>\n",
       "      <td>14003</td>\n",
       "      <td>14786</td>\n",
       "    </tr>\n",
       "    <tr>\n",
       "      <th>630898</th>\n",
       "      <td>1438549871033</td>\n",
       "      <td>1007724</td>\n",
       "      <td>transaction</td>\n",
       "      <td>271812</td>\n",
       "      <td>5070</td>\n",
       "    </tr>\n",
       "  </tbody>\n",
       "</table>\n",
       "</div>"
      ],
      "text/plain": [
       "             timestamp  visitorid        event  itemid  transactionid\n",
       "2218271  1436370151351     519839  transaction  425359           5589\n",
       "179622   1433875006348     568495  transaction  461686           2609\n",
       "1999480  1432832909376     163561  transaction  284045          17528\n",
       "218973   1434175525320    1396823  transaction  173291           5728\n",
       "1592090  1431187099939     163561  transaction  120098           7629\n",
       "2626908  1437928730534      54960  transaction   91105          15661\n",
       "812683   1439407324025     861299  transaction  146325           4937\n",
       "1529517  1430927389187    1161163  transaction  404864           7658\n",
       "2023687  1432930961754     109357  transaction   14003          14786\n",
       "630898   1438549871033    1007724  transaction  271812           5070"
      ]
     },
     "execution_count": 3,
     "metadata": {},
     "output_type": "execute_result"
    }
   ],
   "source": [
    "df.sample(10)"
   ]
  },
  {
   "cell_type": "code",
   "execution_count": 4,
   "metadata": {},
   "outputs": [],
   "source": [
    "transactionItems = df.groupby('transactionid')['itemid'].agg(list)"
   ]
  },
  {
   "cell_type": "code",
   "execution_count": 5,
   "metadata": {},
   "outputs": [],
   "source": [
    "def cartesian_set_product(items):\n",
    "    results = []\n",
    "    for a in items:\n",
    "        for b in items:\n",
    "            if a != b:\n",
    "                results.append((a, b))\n",
    "    return results"
   ]
  },
  {
   "cell_type": "code",
   "execution_count": 6,
   "metadata": {},
   "outputs": [],
   "source": [
    "pairs = df.groupby('transactionid')['itemid'].agg(cartesian_set_product).sum()"
   ]
  },
  {
   "cell_type": "code",
   "execution_count": 7,
   "metadata": {},
   "outputs": [],
   "source": [
    "def calculate_probability(item_pair):\n",
    "    num_both = transactionItems.apply(lambda t: item_pair[0] in t and item_pair[1] in t).sum()\n",
    "    num_given = transactionItems.apply(lambda t: item_pair[1] in t).sum()\n",
    "    return num_both / num_given"
   ]
  },
  {
   "cell_type": "code",
   "execution_count": 8,
   "metadata": {},
   "outputs": [],
   "source": [
    "probs = pd.Series(index=pd.MultiIndex.from_tuples(pairs, names=['itemid_of', 'itemid_given']))"
   ]
  },
  {
   "cell_type": "code",
   "execution_count": 9,
   "metadata": {},
   "outputs": [],
   "source": [
    "for p in pairs:\n",
    "    probs[p[0], p[1]] = calculate_probability(p)"
   ]
  },
  {
   "cell_type": "code",
   "execution_count": 10,
   "metadata": {},
   "outputs": [
    {
     "data": {
      "text/plain": [
       "count    22580.000000\n",
       "mean         0.662828\n",
       "std          0.345664\n",
       "min          0.007519\n",
       "25%          0.333333\n",
       "50%          0.666667\n",
       "75%          1.000000\n",
       "max          1.000000\n",
       "dtype: float64"
      ]
     },
     "execution_count": 10,
     "metadata": {},
     "output_type": "execute_result"
    }
   ],
   "source": [
    "probs.dropna().describe()"
   ]
  },
  {
   "cell_type": "code",
   "execution_count": null,
   "metadata": {},
   "outputs": [],
   "source": []
  }
 ],
 "metadata": {
  "kernelspec": {
   "display_name": "Python 3",
   "language": "python",
   "name": "python3"
  },
  "language_info": {
   "codemirror_mode": {
    "name": "ipython",
    "version": 3
   },
   "file_extension": ".py",
   "mimetype": "text/x-python",
   "name": "python",
   "nbconvert_exporter": "python",
   "pygments_lexer": "ipython3",
   "version": "3.7.1"
  }
 },
 "nbformat": 4,
 "nbformat_minor": 2
}
