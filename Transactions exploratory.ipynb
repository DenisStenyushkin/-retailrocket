{
 "cells": [
  {
   "cell_type": "code",
   "execution_count": 1,
   "metadata": {},
   "outputs": [],
   "source": [
    "import pandas as pd\n",
    "import matplotlib.pyplot as plt"
   ]
  },
  {
   "cell_type": "code",
   "execution_count": 2,
   "metadata": {},
   "outputs": [],
   "source": [
    "df = pd.read_csv('./data/events.csv')"
   ]
  },
  {
   "cell_type": "code",
   "execution_count": 3,
   "metadata": {},
   "outputs": [],
   "source": [
    "df = df.dropna(subset=['transactionid'])"
   ]
  },
  {
   "cell_type": "code",
   "execution_count": 4,
   "metadata": {},
   "outputs": [],
   "source": [
    "df['timestamp'] = pd.to_datetime(df['timestamp'], unit='ms')\n",
    "df['transactionid'] = df['transactionid'].astype(int)"
   ]
  },
  {
   "cell_type": "code",
   "execution_count": 5,
   "metadata": {
    "scrolled": true
   },
   "outputs": [
    {
     "data": {
      "text/html": [
       "<div>\n",
       "<style scoped>\n",
       "    .dataframe tbody tr th:only-of-type {\n",
       "        vertical-align: middle;\n",
       "    }\n",
       "\n",
       "    .dataframe tbody tr th {\n",
       "        vertical-align: top;\n",
       "    }\n",
       "\n",
       "    .dataframe thead th {\n",
       "        text-align: right;\n",
       "    }\n",
       "</style>\n",
       "<table border=\"1\" class=\"dataframe\">\n",
       "  <thead>\n",
       "    <tr style=\"text-align: right;\">\n",
       "      <th></th>\n",
       "      <th>timestamp</th>\n",
       "      <th>visitorid</th>\n",
       "      <th>event</th>\n",
       "      <th>itemid</th>\n",
       "      <th>transactionid</th>\n",
       "    </tr>\n",
       "  </thead>\n",
       "  <tbody>\n",
       "    <tr>\n",
       "      <th>2011386</th>\n",
       "      <td>2015-05-29 20:22:41.754</td>\n",
       "      <td>109357</td>\n",
       "      <td>transaction</td>\n",
       "      <td>120098</td>\n",
       "      <td>14786</td>\n",
       "    </tr>\n",
       "    <tr>\n",
       "      <th>670037</th>\n",
       "      <td>2015-08-05 02:30:45.624</td>\n",
       "      <td>152963</td>\n",
       "      <td>transaction</td>\n",
       "      <td>11621</td>\n",
       "      <td>15589</td>\n",
       "    </tr>\n",
       "    <tr>\n",
       "      <th>2065503</th>\n",
       "      <td>2015-07-01 17:07:28.710</td>\n",
       "      <td>248679</td>\n",
       "      <td>transaction</td>\n",
       "      <td>175859</td>\n",
       "      <td>3921</td>\n",
       "    </tr>\n",
       "    <tr>\n",
       "      <th>836229</th>\n",
       "      <td>2015-08-14 02:18:01.857</td>\n",
       "      <td>917853</td>\n",
       "      <td>transaction</td>\n",
       "      <td>159792</td>\n",
       "      <td>8714</td>\n",
       "    </tr>\n",
       "    <tr>\n",
       "      <th>754782</th>\n",
       "      <td>2015-08-09 01:53:24.533</td>\n",
       "      <td>1360314</td>\n",
       "      <td>transaction</td>\n",
       "      <td>19972</td>\n",
       "      <td>5569</td>\n",
       "    </tr>\n",
       "    <tr>\n",
       "      <th>2715766</th>\n",
       "      <td>2015-07-29 16:24:22.825</td>\n",
       "      <td>1293358</td>\n",
       "      <td>transaction</td>\n",
       "      <td>48030</td>\n",
       "      <td>17338</td>\n",
       "    </tr>\n",
       "    <tr>\n",
       "      <th>2516487</th>\n",
       "      <td>2015-07-21 19:03:43.512</td>\n",
       "      <td>757355</td>\n",
       "      <td>transaction</td>\n",
       "      <td>443190</td>\n",
       "      <td>15201</td>\n",
       "    </tr>\n",
       "    <tr>\n",
       "      <th>1055700</th>\n",
       "      <td>2015-08-26 04:40:52.146</td>\n",
       "      <td>317190</td>\n",
       "      <td>transaction</td>\n",
       "      <td>422329</td>\n",
       "      <td>8372</td>\n",
       "    </tr>\n",
       "    <tr>\n",
       "      <th>1706100</th>\n",
       "      <td>2015-05-15 19:04:53.736</td>\n",
       "      <td>1316368</td>\n",
       "      <td>transaction</td>\n",
       "      <td>93556</td>\n",
       "      <td>9243</td>\n",
       "    </tr>\n",
       "    <tr>\n",
       "      <th>1563036</th>\n",
       "      <td>2015-05-07 14:16:13.261</td>\n",
       "      <td>949876</td>\n",
       "      <td>transaction</td>\n",
       "      <td>221246</td>\n",
       "      <td>15460</td>\n",
       "    </tr>\n",
       "  </tbody>\n",
       "</table>\n",
       "</div>"
      ],
      "text/plain": [
       "                      timestamp  visitorid        event  itemid  transactionid\n",
       "2011386 2015-05-29 20:22:41.754     109357  transaction  120098          14786\n",
       "670037  2015-08-05 02:30:45.624     152963  transaction   11621          15589\n",
       "2065503 2015-07-01 17:07:28.710     248679  transaction  175859           3921\n",
       "836229  2015-08-14 02:18:01.857     917853  transaction  159792           8714\n",
       "754782  2015-08-09 01:53:24.533    1360314  transaction   19972           5569\n",
       "2715766 2015-07-29 16:24:22.825    1293358  transaction   48030          17338\n",
       "2516487 2015-07-21 19:03:43.512     757355  transaction  443190          15201\n",
       "1055700 2015-08-26 04:40:52.146     317190  transaction  422329           8372\n",
       "1706100 2015-05-15 19:04:53.736    1316368  transaction   93556           9243\n",
       "1563036 2015-05-07 14:16:13.261     949876  transaction  221246          15460"
      ]
     },
     "execution_count": 5,
     "metadata": {},
     "output_type": "execute_result"
    }
   ],
   "source": [
    "df.sample(n=10)"
   ]
  },
  {
   "cell_type": "code",
   "execution_count": 14,
   "metadata": {},
   "outputs": [
    {
     "data": {
      "text/plain": [
       "count    22457.000000\n",
       "mean      8826.497796\n",
       "std       5098.996290\n",
       "min          0.000000\n",
       "25%       4411.000000\n",
       "50%       8813.000000\n",
       "75%      13224.000000\n",
       "max      17671.000000\n",
       "Name: transactionid, dtype: float64"
      ]
     },
     "execution_count": 14,
     "metadata": {},
     "output_type": "execute_result"
    }
   ],
   "source": [
    "df['transactionid'].describe()"
   ]
  },
  {
   "cell_type": "code",
   "execution_count": 6,
   "metadata": {},
   "outputs": [
    {
     "data": {
      "text/plain": [
       "7063     31\n",
       "765      28\n",
       "8351     27\n",
       "2753     23\n",
       "6993     21\n",
       "2110     20\n",
       "11927    17\n",
       "17211    17\n",
       "Name: transactionid, dtype: int64"
      ]
     },
     "execution_count": 6,
     "metadata": {},
     "output_type": "execute_result"
    }
   ],
   "source": [
    "df['transactionid'].value_counts()"
   ]
  },
  {
   "cell_type": "code",
   "execution_count": 9,
   "metadata": {},
   "outputs": [
    {
     "data": {
      "text/plain": [
       "count                          22457\n",
       "unique                         20362\n",
       "top       2015-05-21 17:40:49.621000\n",
       "freq                               6\n",
       "first     2015-05-03 03:27:21.391000\n",
       "last      2015-09-18 02:43:12.017000\n",
       "Name: timestamp, dtype: object"
      ]
     },
     "execution_count": 9,
     "metadata": {},
     "output_type": "execute_result"
    }
   ],
   "source": [
    "df['timestamp'].describe()"
   ]
  },
  {
   "cell_type": "code",
   "execution_count": 10,
   "metadata": {},
   "outputs": [
    {
     "data": {
      "text/plain": [
       "12025"
      ]
     },
     "execution_count": 10,
     "metadata": {},
     "output_type": "execute_result"
    }
   ],
   "source": [
    "len(df['itemid'].unique())"
   ]
  },
  {
   "cell_type": "code",
   "execution_count": 15,
   "metadata": {},
   "outputs": [
    {
     "data": {
      "text/plain": [
       "461686    133\n",
       "119736     97\n",
       "213834     92\n",
       "312728     46\n",
       "7943       46\n",
       "445351     45\n",
       "48030      41\n",
       "248455     38\n",
       "420960     38\n",
       "17478      37\n",
       "409804     35\n",
       "320130     33\n",
       "416017     32\n",
       "369447     31\n",
       "46156      31\n",
       "268883     29\n",
       "334401     28\n",
       "257040     27\n",
       "441852     27\n",
       "9877       25\n",
       "37029      25\n",
       "546        23\n",
       "318333     23\n",
       "450082     22\n",
       "190000     20\n",
       "138427     20\n",
       "222888     20\n",
       "10572      19\n",
       "46232      19\n",
       "369158     19\n",
       "         ... \n",
       "316243      1\n",
       "174426      1\n",
       "164681      1\n",
       "318274      1\n",
       "222069      1\n",
       "119603      1\n",
       "109356      1\n",
       "326268      1\n",
       "164649      1\n",
       "339881      1\n",
       "121634      1\n",
       "238445      1\n",
       "62327       1\n",
       "324757      1\n",
       "426619      1\n",
       "46031       1\n",
       "459721      1\n",
       "340927      1\n",
       "310206      1\n",
       "129974      1\n",
       "279473      1\n",
       "60908       1\n",
       "142204      1\n",
       "388004      1\n",
       "200537      1\n",
       "457622      1\n",
       "324946      1\n",
       "299915      1\n",
       "97158       1\n",
       "329729      1\n",
       "Name: itemid, Length: 12025, dtype: int64"
      ]
     },
     "execution_count": 15,
     "metadata": {},
     "output_type": "execute_result"
    }
   ],
   "source": [
    "df['itemid'].value_counts()"
   ]
  },
  {
   "cell_type": "code",
   "execution_count": 16,
   "metadata": {},
   "outputs": [
    {
     "data": {
      "text/plain": [
       "count    12025.000000\n",
       "mean         1.867526\n",
       "std          2.710560\n",
       "min          1.000000\n",
       "25%          1.000000\n",
       "50%          1.000000\n",
       "75%          2.000000\n",
       "max        133.000000\n",
       "Name: itemid, dtype: float64"
      ]
     },
     "execution_count": 16,
     "metadata": {},
     "output_type": "execute_result"
    }
   ],
   "source": [
    "df['itemid'].value_counts().describe()"
   ]
  },
  {
   "cell_type": "code",
   "execution_count": null,
   "metadata": {},
   "outputs": [],
   "source": []
  }
 ],
 "metadata": {
  "kernelspec": {
   "display_name": "Python 3",
   "language": "python",
   "name": "python3"
  },
  "language_info": {
   "codemirror_mode": {
    "name": "ipython",
    "version": 3
   },
   "file_extension": ".py",
   "mimetype": "text/x-python",
   "name": "python",
   "nbconvert_exporter": "python",
   "pygments_lexer": "ipython3",
   "version": "3.7.1"
  }
 },
 "nbformat": 4,
 "nbformat_minor": 2
}
